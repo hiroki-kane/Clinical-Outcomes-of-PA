{
 "cells": [
  {
   "cell_type": "code",
   "execution_count": null,
   "id": "25b25f0a",
   "metadata": {},
   "outputs": [],
   "source": [
    "import pandas as pd\n",
    "from matplotlib import pyplot as plt\n",
    "from sklearn.model_selection import train_test_split, StratifiedKFold, GridSearchCV\n",
    "from sklearn.metrics import confusion_matrix, roc_curve, auc, roc_auc_score\n",
    "import lightgbm as lgb\n",
    "\n",
    "PA = pd.read_csv(\"data.csv\")\n",
    "X = PA[[\"AGE\", \"SEX\", \"BMI\", \"DURATION\", \"DDD\",  \"PAC\"]]\n",
    "y = PA[\"Clinical_outcome\"]\n",
    "X_train, X_test, y_train, y_test = train_test_split(X, y, test_size=0.2, stratify=y)\n",
    "skf = StratifiedKFold(n_splits=5, shuffle=True)\n",
    "LGBM = lgb.LGBMClassifier()\n",
    "param_grid = {\"max_depth\": [2, 3, 5, 7, 10],\n",
    "              \"learning_rate\" : [0.001,0.01,0.05,0.1],\n",
    "              \"num_leaves\": [1,3,5,7,10],\n",
    "              \"min_data_in_leaf\": [0, 3, 5, 7, 10],\n",
    "              \"n_estimators\": [50,100,300,500,700,1000]\n",
    "             }\n",
    "grid_result = GridSearchCV(estimator = LGBM,\n",
    "                           param_grid = param_grid,\n",
    "                           cv = skf,\n",
    "                           n_jobs = -1)\n",
    "grid_result.fit(X_train, y_train)\n",
    "print(grid_result.score(X_test, y_test))"
   ]
  },
  {
   "cell_type": "code",
   "execution_count": null,
   "id": "97a6c6f3",
   "metadata": {},
   "outputs": [],
   "source": [
    "y_pred = grid_result.predict(X_test)\n",
    "confusion_matrix(y_test, y_pred, labels=[1,0])"
   ]
  },
  {
   "cell_type": "code",
   "execution_count": null,
   "id": "d90c9fb8",
   "metadata": {},
   "outputs": [],
   "source": [
    "prob = grid_result.predict_proba(X_test)[:, 1]\n",
    "fpr, tpr, thresholds= roc_curve(y_test, prob)\n",
    "fig = plt.figure(figsize=(5,5))\n",
    "plt.plot(fpr, tpr)\n",
    "plt.xlabel(\"1 - Specificity\", fontsize=10)\n",
    "plt.ylabel(\"Sensitivity\", fontsize=10)\n",
    "plt.xticks(fontsize=8)\n",
    "plt.yticks(fontsize=8)\n",
    "roc_auc_score(y_test, prob)"
   ]
  }
 ],
 "metadata": {
  "kernelspec": {
   "display_name": "Python 3",
   "language": "python",
   "name": "python3"
  },
  "language_info": {
   "codemirror_mode": {
    "name": "ipython",
    "version": 3
   },
   "file_extension": ".py",
   "mimetype": "text/x-python",
   "name": "python",
   "nbconvert_exporter": "python",
   "pygments_lexer": "ipython3",
   "version": "3.7.11"
  }
 },
 "nbformat": 4,
 "nbformat_minor": 5
}
